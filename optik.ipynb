{
 "cells": [
  {
   "cell_type": "markdown",
   "metadata": {},
   "source": [
    "# Optik\n",
    "#### `import needed modules`"
   ]
  },
  {
   "cell_type": "code",
   "execution_count": 11,
   "metadata": {},
   "outputs": [],
   "source": [
    "from src.bulk import Bulk\n",
    "from src.layer import Layer\n",
    "from matplotlib import pyplot as plt"
   ]
  },
  {
   "cell_type": "markdown",
   "metadata": {},
   "source": [
    "## Cell"
   ]
  },
  {
   "cell_type": "code",
   "execution_count": 13,
   "metadata": {},
   "outputs": [
    {
     "name": "stdout",
     "output_type": "stream",
     "text": [
      "Cell: \n",
      "MgF2  thickness: 100.0\n",
      "ZnS  thickness: 200.0\n",
      "InGaP  thickness: 300.0\n",
      "GaAs  thickness: 400.0\n",
      "R: [140.22279193 134.91946577 131.91251935 ...  52.43612094  52.47922111\n",
      "  52.52223049]\n",
      "T: [2.62821745e-18 2.72334435e-18 2.61985452e-18 ... 6.65094379e+01\n",
      " 6.64819365e+01 6.64544667e+01]\n"
     ]
    }
   ],
   "source": [
    "layers = [\n",
    "    Layer(name=\"MgF2\", thickness=100.0, filename=\"./Materials/Al2.txt\"),\n",
    "    Layer(name=\"ZnS\", thickness=200.0, filename=\"./Materials/Si.txt\"),\n",
    "    Layer(name=\"InGaP\", thickness=300.0, filename=\"./Materials/Al2.txt\"),\n",
    "    Layer(name=\"GaAs\", thickness=400.0, filename=\"./Materials/Si.txt\"),\n",
    "]\n",
    "cell2 = Bulk(*layers)\n",
    "v1, v2 = cell2.RT()\n",
    "print(\"Cell: \\n{}\\nR: {}\\nT: {}\".format(\n",
    "    \"\\n\".join([\"  thickness: \".join([layer.name, str(layer.thickness)]) for layer in layers]),\n",
    "    v1,\n",
    "    v2,\n",
    "))"
   ]
  },
  {
   "cell_type": "markdown",
   "metadata": {},
   "source": [
    "## RT - Graphic"
   ]
  },
  {
   "cell_type": "code",
   "execution_count": null,
   "metadata": {},
   "outputs": [],
   "source": [
    "fig, ax1, = pyplot.subplots(figsize=(8, 6), dpi=300, facecolor='w', edgecolor='k')\n",
    "ax1.set_xlabel('Wave length [nm]', {'fontsize': 8})\n",
    "ax1.set_ylabel('Transmittance [%]', {'fontsize': 8})\n",
    "ax1.plot(wlengths, T, label='Transmittance TCO', linewidth=1.2)\n",
    "ax1.tick_params(axis='y')\n",
    "ax2 = ax1.twinx()  # instantiate a second axes that shares the same x-axis\n",
    "ax2.set_ylabel('Reflectance [%]', {'fontsize': 8})  # we already handled the x-label with ax1\n",
    "ax2.plot(wlengths, R, label='Reflectance CIGS', linewidth=1.2, color='g')\n",
    "ax2.tick_params(axis='y')\n",
    "fig.tight_layout()  # otherwise the right y-label is slightly clipped\n",
    "ax1.grid(True)\n",
    "fig.legend(loc='center', fontsize='small')\n",
    "pyplot.savefig('RT8-300dpi.pdf')\n",
    "pyplot.show()"
   ]
  }
 ],
 "metadata": {
  "kernelspec": {
   "display_name": "Python 3",
   "language": "python",
   "name": "python3"
  },
  "language_info": {
   "codemirror_mode": {
    "name": "ipython",
    "version": 3
   },
   "file_extension": ".py",
   "mimetype": "text/x-python",
   "name": "python",
   "nbconvert_exporter": "python",
   "pygments_lexer": "ipython3",
   "version": "3.8.5"
  }
 },
 "nbformat": 4,
 "nbformat_minor": 4
}
